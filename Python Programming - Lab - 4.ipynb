{
 "cells": [
  {
   "cell_type": "markdown",
   "metadata": {},
   "source": [
    "\n",
    "<a href='https://www.darshan.ac.in/'> <img src='https://www.darshan.ac.in/Content/media/DU_Logo.svg' width=\"250\" height=\"300\"/></a>\n",
    "<pre>\n",
    "<center><b><h1>Python Programming - 2101CS405</b></center>\n",
    "<center><b><h1>Lab - 4</b></center>    \n",
    "<pre>"
   ]
  },
  {
   "cell_type": "markdown",
   "metadata": {},
   "source": [
    "# String"
   ]
  },
  {
   "cell_type": "markdown",
   "metadata": {},
   "source": [
    "### 01) WAP to check given string is palindrome or not."
   ]
  },
  {
   "cell_type": "code",
   "execution_count": 3,
   "metadata": {},
   "outputs": [
    {
     "name": "stdout",
     "output_type": "stream",
     "text": [
      "enter string:jeet\n",
      "string is not palindrom\n"
     ]
    }
   ],
   "source": [
    "str=input(\"enter string:\")\n",
    "p_str=str[::-1]\n",
    "if str==p_str:\n",
    "    print(\"string is palindrom\")\n",
    "else:\n",
    "    print(\"string is not palindrom\")"
   ]
  },
  {
   "cell_type": "markdown",
   "metadata": {},
   "source": [
    "### 02) WAP to reverse the words in given string."
   ]
  },
  {
   "cell_type": "code",
   "execution_count": 27,
   "metadata": {},
   "outputs": [
    {
     "name": "stdout",
     "output_type": "stream",
     "text": [
      "enter stringabhi kanjia\n",
      "kanjia abhi\n"
     ]
    }
   ],
   "source": [
    "str=input(\"enter string:\")\n",
    "s = str.split()[::-1]\n",
    "l = []\n",
    "for i in s:\n",
    "    l.append(i)\n",
    "print(\" \".join(l)) "
   ]
  },
  {
   "cell_type": "markdown",
   "metadata": {},
   "source": [
    "### 03) WAP to remove ith character from given string"
   ]
  },
  {
   "cell_type": "code",
   "execution_count": 9,
   "metadata": {},
   "outputs": [
    {
     "name": "stdout",
     "output_type": "stream",
     "text": [
      "enter string:abhi\n",
      "enter ith character you want to remove:2\n",
      "ahi\n"
     ]
    }
   ],
   "source": [
    "str=input(\"enter string:\")\n",
    "inp=int(input(\"enter ith character you want to remove:\"))\n",
    "str1=str[0:inp-1:]\n",
    "str2=str[inp::]\n",
    "print(str1+str2)"
   ]
  },
  {
   "cell_type": "markdown",
   "metadata": {},
   "source": [
    "### 04) WAP to find length of String without using len function."
   ]
  },
  {
   "cell_type": "code",
   "execution_count": 15,
   "metadata": {},
   "outputs": [
    {
     "name": "stdout",
     "output_type": "stream",
     "text": [
      "enter string:abhi\n",
      "4\n"
     ]
    }
   ],
   "source": [
    "str=input(\"enter string:\")\n",
    "count=0\n",
    "for i in str:\n",
    "    count=count+1\n",
    "print(count)"
   ]
  },
  {
   "cell_type": "markdown",
   "metadata": {},
   "source": [
    "### 05) WAP to print even length word in string."
   ]
  },
  {
   "cell_type": "code",
   "execution_count": 28,
   "metadata": {},
   "outputs": [
    {
     "name": "stdout",
     "output_type": "stream",
     "text": [
      "enter string:jeet patel\n",
      "jeet\n"
     ]
    }
   ],
   "source": [
    "str=input(\"enter string:\")\n",
    "s=str.split(\" \")\n",
    "for i in s:    \n",
    "    if len(i)%2==0:\n",
    "        print(i)"
   ]
  },
  {
   "cell_type": "markdown",
   "metadata": {},
   "source": [
    "### 06) WAP to count numbers of vowels in given string."
   ]
  },
  {
   "cell_type": "code",
   "execution_count": 22,
   "metadata": {},
   "outputs": [
    {
     "name": "stdout",
     "output_type": "stream",
     "text": [
      "enter string:Jeet\n",
      "2\n"
     ]
    }
   ],
   "source": [
    "str=input(\"enter string:\")\n",
    "count=0\n",
    "str_low=str.lower()\n",
    "for i in str_low:\n",
    "    if(i=='a' or i=='e' or i=='i' or i=='o' or i=='u'):\n",
    "        count=count+1\n",
    "print(count)"
   ]
  },
  {
   "cell_type": "markdown",
   "metadata": {},
   "source": [
    "### 07) WAP to convert given array to string."
   ]
  },
  {
   "cell_type": "code",
   "execution_count": 20,
   "metadata": {},
   "outputs": [
    {
     "name": "stdout",
     "output_type": "stream",
     "text": [
      "darshan uni morbi\n"
     ]
    }
   ],
   "source": [
    "arr=[\"darshan\",\"uni\",\"morbi\"]\n",
    "arr_str=\" \".join(arr)\n",
    "print(arr_str)"
   ]
  },
  {
   "cell_type": "markdown",
   "metadata": {},
   "source": [
    "### 01) WAP to find out duplicate characters in given string."
   ]
  },
  {
   "cell_type": "code",
   "execution_count": 2,
   "metadata": {},
   "outputs": [
    {
     "name": "stdout",
     "output_type": "stream",
     "text": [
      "Enter String: abhii\n",
      "{'i'}\n"
     ]
    }
   ],
   "source": [
    "list = []\n",
    "str1 = input(\"Enter String: \")\n",
    "for i in str1:\n",
    "    if str1.count(i) > 1:\n",
    "        list.append(i)\n",
    "element = set(list)\n",
    "print(element)\n"
   ]
  },
  {
   "cell_type": "markdown",
   "metadata": {},
   "source": [
    "### 02) WAP to capitalize the first and last character of each word in a string."
   ]
  },
  {
   "cell_type": "code",
   "execution_count": 3,
   "metadata": {},
   "outputs": [
    {
     "name": "stdout",
     "output_type": "stream",
     "text": [
      "Enter String : yash\n",
      "YasH\n"
     ]
    }
   ],
   "source": [
    "str1 = input(\"Enter String : \")\n",
    "str1 = str1[0].upper()+str1[1:len(str1)-1]+str1[-1].upper()\n",
    "print(str1)"
   ]
  },
  {
   "cell_type": "markdown",
   "metadata": {},
   "source": [
    "### 03) WAP to find Maximum frequency character in String."
   ]
  },
  {
   "cell_type": "code",
   "execution_count": 4,
   "metadata": {},
   "outputs": [
    {
     "name": "stdout",
     "output_type": "stream",
     "text": [
      "Enter String : yasha\n",
      "a\n"
     ]
    }
   ],
   "source": [
    "str1 = input(\"Enter String : \")\n",
    "frequency = {}\n",
    "for i in str1:\n",
    "    if i in frequency:\n",
    "        frequency[i] = frequency[i] + 1\n",
    "    else:\n",
    "        frequency[i] = 1\n",
    "result = max(frequency, key=frequency.get)\n",
    "print(result)"
   ]
  },
  {
   "cell_type": "markdown",
   "metadata": {},
   "source": [
    "### 04) WAP to find Minimum frequency character in String."
   ]
  },
  {
   "cell_type": "code",
   "execution_count": 5,
   "metadata": {},
   "outputs": [
    {
     "name": "stdout",
     "output_type": "stream",
     "text": [
      "Enter String : yasha\n",
      "y\n"
     ]
    }
   ],
   "source": [
    "str1 = input(\"Enter String : \")\n",
    "frequency = {}\n",
    "for i in str1:\n",
    "    if i in frequency:\n",
    "        frequency[i] = frequency[i] + 1\n",
    "    else:\n",
    "        frequency[i] = 1\n",
    "result = min(frequency, key=frequency.get)\n",
    "print(result)"
   ]
  },
  {
   "cell_type": "markdown",
   "metadata": {},
   "source": [
    "### 05) WAP to check if a given string is binary string or not"
   ]
  },
  {
   "cell_type": "code",
   "execution_count": 8,
   "metadata": {},
   "outputs": [
    {
     "name": "stdout",
     "output_type": "stream",
     "text": [
      "Enter String : abc\n",
      "Not Binary\n"
     ]
    }
   ],
   "source": [
    "str1 = input(\"Enter String : \")\n",
    "if str1.count(\"0\")+str1.count(\"1\") == len(str1):\n",
    "    print(\"Binary\")\n",
    "else:\n",
    "    print(\"Not Binary\")"
   ]
  },
  {
   "cell_type": "code",
   "execution_count": null,
   "metadata": {},
   "outputs": [],
   "source": []
  }
 ],
 "metadata": {
  "kernelspec": {
   "display_name": "Python 3 (ipykernel)",
   "language": "python",
   "name": "python3"
  },
  "language_info": {
   "codemirror_mode": {
    "name": "ipython",
    "version": 3
   },
   "file_extension": ".py",
   "mimetype": "text/x-python",
   "name": "python",
   "nbconvert_exporter": "python",
   "pygments_lexer": "ipython3",
   "version": "3.9.13"
  }
 },
 "nbformat": 4,
 "nbformat_minor": 4
}
