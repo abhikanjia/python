{
 "cells": [
  {
   "cell_type": "markdown",
   "metadata": {},
   "source": [
    "<a href='https://www.darshan.ac.in/'> <img src='https://www.darshan.ac.in/Content/media/DU_Logo.svg' width=\"250\" height=\"300\"/></a>\n",
    "<pre>\n",
    "<center><b><h1>Python Programming - 2101CS405</b></center>\n",
    "<center><b><h1>Lab - 10</b></center>    \n",
    "<pre>"
   ]
  },
  {
   "cell_type": "markdown",
   "metadata": {},
   "source": [
    "# Modules"
   ]
  },
  {
   "cell_type": "markdown",
   "metadata": {},
   "source": [
    "# A"
   ]
  },
  {
   "cell_type": "markdown",
   "metadata": {},
   "source": [
    "### 01) WAP to create Calculator module which defines functions like add, sub,mul and div. create another file that uses the Calculator module."
   ]
  },
  {
   "cell_type": "code",
   "execution_count": 5,
   "metadata": {},
   "outputs": [
    {
     "name": "stdout",
     "output_type": "stream",
     "text": [
      "6\n",
      "8\n",
      "1\n",
      "2.0\n"
     ]
    }
   ],
   "source": [
    "# import demo \n",
    "from demo import add\n",
    "from demo import sub\n",
    "from demo import mul\n",
    "from demo import div\n",
    "\n",
    "print(add(2,4))\n",
    "print(mul(4,2))\n",
    "print(sub(3,2))\n",
    "print(div(4,2))"
   ]
  },
  {
   "cell_type": "markdown",
   "metadata": {},
   "source": [
    "### 02) WAP to Pick a random character from a given String."
   ]
  },
  {
   "cell_type": "code",
   "execution_count": 9,
   "metadata": {},
   "outputs": [
    {
     "name": "stdout",
     "output_type": "stream",
     "text": [
      "enter stringjeet\n",
      "e\n"
     ]
    }
   ],
   "source": [
    "import random\n",
    "str=input(\"enter string\")\n",
    "l=list(str)\n",
    "print(random.choice(l))"
   ]
  },
  {
   "cell_type": "markdown",
   "metadata": {},
   "source": [
    "### 03) WAP to Pick a random element from a given list."
   ]
  },
  {
   "cell_type": "code",
   "execution_count": 12,
   "metadata": {},
   "outputs": [
    {
     "name": "stdout",
     "output_type": "stream",
     "text": [
      "enter list size6\n",
      "enter element:1\n",
      "enter element:2\n",
      "enter element:3\n",
      "enter element:4\n",
      "enter element:5\n",
      "enter element:6\n",
      "['1', '2', '3', '4', '5', '6']\n",
      "5\n"
     ]
    }
   ],
   "source": [
    "size=int(input(\"enter list size\"))\n",
    "list=[]\n",
    "for i in range (1,size+1):\n",
    "    a=input(\"enter element:\")\n",
    "    list.append(a)\n",
    "print(list)\n",
    "print(random.choice(list))"
   ]
  },
  {
   "cell_type": "markdown",
   "metadata": {},
   "source": [
    "### 04) WAP to demonstrate the use of the math module."
   ]
  },
  {
   "cell_type": "code",
   "execution_count": 24,
   "metadata": {},
   "outputs": [
    {
     "name": "stdout",
     "output_type": "stream",
     "text": [
      "enter a:0\n",
      "enter b:5\n",
      "0.0\n",
      "0.0\n",
      "6\n",
      "7\n",
      "5\n",
      "0\n",
      "1\n",
      "0.0\n",
      "1.0\n",
      "0.0\n"
     ]
    }
   ],
   "source": [
    "import math\n",
    "a=int(input(\"enter a:\"))\n",
    "b=int(input(\"enter b:\"))\n",
    "\n",
    "print(math.pow(a,b))\n",
    "print(math.sqrt(a))\n",
    "print(math.floor(6.7))\n",
    "print(math.ceil(6.7))\n",
    "print(math.gcd(a,b))\n",
    "print(math.lcm(a,b))\n",
    "print(math.factorial(a))\n",
    "print(math.sin(a))\n",
    "print(math.cos(a))\n",
    "print(math.tan(a))"
   ]
  },
  {
   "cell_type": "markdown",
   "metadata": {},
   "source": [
    "### 05) WAP to demonstrate the use of date time module"
   ]
  },
  {
   "cell_type": "code",
   "execution_count": 34,
   "metadata": {},
   "outputs": [
    {
     "name": "stdout",
     "output_type": "stream",
     "text": [
      "Imput Date :  2004-07-26\n",
      "Today Date :  2023-02-17\n",
      "2023-02-17\n",
      "2023\n",
      "2\n",
      "17\n",
      "10:30:05.000001\n",
      "10\n",
      "30\n",
      "5\n",
      "1\n",
      "2004-07-25 12:12:12\n",
      "2023-02-17 10:39:18.198728\n",
      "2023-02-19 10:39:18.198790\n",
      "2023-02-03 10:39:18.198790\n",
      "Fri\n",
      "Friday\n",
      "02\n",
      "39\n",
      "23\n",
      "2023\n"
     ]
    }
   ],
   "source": [
    "import datetime\n",
    "d = datetime.date(2004,7,26)\n",
    "todayDate = datetime.date.today()\n",
    "print(\"Imput Date : \",d)\n",
    "print(\"Today Date : \",todayDate)\n",
    "print(todayDate)\n",
    "print(todayDate.year)\n",
    "print(todayDate.month)\n",
    "print(todayDate.day)\n",
    "t = datetime.time(10,30,5,1)\n",
    "print(t)\n",
    "print(t.hour)\n",
    "print(t.minute)\n",
    "print(t.second)\n",
    "print(t.microsecond)\n",
    "\n",
    "dd = datetime.datetime(2004,7,25,12,12,12)\n",
    "print(dd)\n",
    "\n",
    "print(datetime.datetime.now())\n",
    "\n",
    "n = datetime.datetime.now()\n",
    "y = n+datetime.timedelta(days=2)\n",
    "a = n+datetime.timedelta(weeks=-2)\n",
    "print(y)\n",
    "print(a)\n",
    "print(n.strftime(\"%a\"))\n",
    "print(n.strftime(\"%A\"))\n",
    "print(n.strftime(\"%m\"))\n",
    "print(n.strftime(\"%M\"))\n",
    "print(n.strftime(\"%y\"))\n",
    "print(n.strftime(\"%Y\"))"
   ]
  },
  {
   "cell_type": "markdown",
   "metadata": {},
   "source": [
    "# B"
   ]
  },
  {
   "cell_type": "markdown",
   "metadata": {},
   "source": [
    "### 01) WAP to Roll dice in such a way that every time you get the same number."
   ]
  },
  {
   "cell_type": "code",
   "execution_count": 61,
   "metadata": {},
   "outputs": [
    {
     "data": {
      "text/plain": [
       "1"
      ]
     },
     "execution_count": 61,
     "metadata": {},
     "output_type": "execute_result"
    }
   ],
   "source": [
    "# list=[1,2,3,4,5,6]\n",
    "# print(list)\n",
    "# n=int(input(\"enter any number you want from 1 to 6:\"))\n",
    "# count=0\n",
    "# ch=random.choice(list)\n",
    "# # for i in range (1,7):\n",
    "# #     ch=random.choice(list)\n",
    "# #     if(ch==n):\n",
    "# #         print(count)\n",
    "# #     else:\n",
    "# #         count=count+1\n",
    "\n",
    "# while(ch!=n):\n",
    "#     count=count+1\n",
    "# print(count)\n",
    "\n",
    "l1 = [1,2,3,4,5,6]\n",
    "random.seed(2)\n",
    "random.choice(l1)"
   ]
  },
  {
   "cell_type": "markdown",
   "metadata": {},
   "source": [
    "### 02) WAP to generate 3 random integers between 100 and 999 which is divisible by 5."
   ]
  },
  {
   "cell_type": "code",
   "execution_count": 68,
   "metadata": {},
   "outputs": [
    {
     "name": "stdout",
     "output_type": "stream",
     "text": [
      "235\n",
      "765\n",
      "270\n"
     ]
    }
   ],
   "source": [
    "for i in range(3):\n",
    "    print(random.randrange(100,1000,5))"
   ]
  },
  {
   "cell_type": "markdown",
   "metadata": {},
   "source": [
    "### 03) WAP to generate 100 random lottery tickets and pick two lucky tickets from it as a winner."
   ]
  },
  {
   "cell_type": "code",
   "execution_count": 70,
   "metadata": {},
   "outputs": [
    {
     "name": "stdout",
     "output_type": "stream",
     "text": [
      "[86, 16]\n"
     ]
    }
   ],
   "source": [
    "# for i in range(100):\n",
    "#     print(random.randrange(100,1000))\n",
    "\n",
    "l1 = []\n",
    "for i in range(1,101):\n",
    "    x = random.randint(1,100)\n",
    "    l1.append(x)\n",
    "print(random.sample(l1,2))"
   ]
  },
  {
   "cell_type": "markdown",
   "metadata": {},
   "source": [
    "### 04) WAP to print current date and time in Python."
   ]
  },
  {
   "cell_type": "code",
   "execution_count": 71,
   "metadata": {},
   "outputs": [
    {
     "name": "stdout",
     "output_type": "stream",
     "text": [
      "2023-02-17 11:07:38.598312\n"
     ]
    }
   ],
   "source": [
    "print(datetime.datetime.now())"
   ]
  },
  {
   "cell_type": "markdown",
   "metadata": {},
   "source": [
    "### 05) Subtract a week (7 days) from a given date in Python."
   ]
  },
  {
   "cell_type": "code",
   "execution_count": 72,
   "metadata": {},
   "outputs": [
    {
     "name": "stdout",
     "output_type": "stream",
     "text": [
      "2023-02-10 11:09:31.267353\n"
     ]
    }
   ],
   "source": [
    "n = datetime.datetime.now()\n",
    "a = n+datetime.timedelta(weeks=-1)\n",
    "print(a)"
   ]
  },
  {
   "cell_type": "markdown",
   "metadata": {},
   "source": [
    "### 06) WAP to Calculate number of days between two given dates."
   ]
  },
  {
   "cell_type": "code",
   "execution_count": 74,
   "metadata": {},
   "outputs": [
    {
     "name": "stdout",
     "output_type": "stream",
     "text": [
      "Enter First Date : 23\n",
      "Enter Second Date : 21\n",
      "Diffrence :  2.0\n"
     ]
    }
   ],
   "source": [
    "date1 = int(input(\"Enter First Date : \"))\n",
    "date2 = int(input(\"Enter Second Date : \"))\n",
    "print(\"Diffrence : \",math.fabs(date1-date2))"
   ]
  },
  {
   "cell_type": "markdown",
   "metadata": {},
   "source": [
    "### 07) WAP to Find the day of the week of a given date."
   ]
  },
  {
   "cell_type": "code",
   "execution_count": 78,
   "metadata": {},
   "outputs": [
    {
     "name": "stdout",
     "output_type": "stream",
     "text": [
      "Monday\n"
     ]
    }
   ],
   "source": [
    "date = datetime.date(2023,9,4)\n",
    "print(date.strftime(\"%A\"))"
   ]
  },
  {
   "cell_type": "code",
   "execution_count": null,
   "metadata": {},
   "outputs": [],
   "source": []
  }
 ],
 "metadata": {
  "kernelspec": {
   "display_name": "Python 3 (ipykernel)",
   "language": "python",
   "name": "python3"
  },
  "language_info": {
   "codemirror_mode": {
    "name": "ipython",
    "version": 3
   },
   "file_extension": ".py",
   "mimetype": "text/x-python",
   "name": "python",
   "nbconvert_exporter": "python",
   "pygments_lexer": "ipython3",
   "version": "3.9.13"
  }
 },
 "nbformat": 4,
 "nbformat_minor": 4
}
