{
 "cells": [
  {
   "cell_type": "markdown",
   "metadata": {},
   "source": [
    "\n",
    "<a href='https://www.darshan.ac.in/'> <img src='https://www.darshan.ac.in/Content/media/DU_Logo.svg' width=\"250\" height=\"300\"/></a>\n",
    "<pre>\n",
    "<center><b><h1>Python Programming - 2101CS405</b></center>\n",
    "<center><b><h1>Lab - 2</b></center>    \n",
    "<pre>"
   ]
  },
  {
   "cell_type": "markdown",
   "metadata": {},
   "source": [
    "# if..else.."
   ]
  },
  {
   "cell_type": "markdown",
   "metadata": {},
   "source": [
    "### 01) WAP to check whether the given number is positive or negative."
   ]
  },
  {
   "cell_type": "code",
   "execution_count": 12,
   "metadata": {},
   "outputs": [
    {
     "name": "stdout",
     "output_type": "stream",
     "text": [
      "Enter value of a:12\n",
      "positive\n"
     ]
    }
   ],
   "source": [
    "a=int(input(\"Enter value of a:\"))\n",
    "if a>0:\n",
    "    print(\"positive\");\n",
    "else:\n",
    "    print(\"negative\");"
   ]
  },
  {
   "cell_type": "markdown",
   "metadata": {},
   "source": [
    "### 02) WAP to check whether the given number is odd or even"
   ]
  },
  {
   "cell_type": "code",
   "execution_count": 14,
   "metadata": {},
   "outputs": [
    {
     "name": "stdout",
     "output_type": "stream",
     "text": [
      "Enter value of a:12\n",
      "even\n"
     ]
    }
   ],
   "source": [
    "a=int(input(\"Enter value of a:\"))\n",
    "if a%2==0:\n",
    "    print(\"even\");\n",
    "else:\n",
    "    print(\"odd\");"
   ]
  },
  {
   "cell_type": "markdown",
   "metadata": {},
   "source": [
    "### 03) WAP to find out largest number from given two numbers using simple if and ternary operator."
   ]
  },
  {
   "cell_type": "code",
   "execution_count": 17,
   "metadata": {},
   "outputs": [
    {
     "name": "stdout",
     "output_type": "stream",
     "text": [
      "Enter value of a:12\n",
      "Enter value of b:15\n",
      "maximum: 15\n",
      "By Ternary operator\n",
      "Enter value of a:15\n",
      "Enter value of b:12\n"
     ]
    },
    {
     "data": {
      "text/plain": [
       "15"
      ]
     },
     "execution_count": 17,
     "metadata": {},
     "output_type": "execute_result"
    }
   ],
   "source": [
    "a=int(input(\"Enter value of a:\"))\n",
    "b=int(input(\"Enter value of b:\"))\n",
    "if a<b:\n",
    "    print(\"maximum:\",b)\n",
    "else:\n",
    "    print(\"maximum:\",a)\n",
    "    \n",
    "    \n",
    "    \n",
    "print(\"By Ternary operator\")\n",
    "a=int(input(\"Enter value of a:\"))\n",
    "b=int(input(\"Enter value of b:\"))\n",
    "a if(a>b) else b"
   ]
  },
  {
   "cell_type": "markdown",
   "metadata": {},
   "source": [
    "### 04) WAP to find out largest number from given three numbers."
   ]
  },
  {
   "cell_type": "code",
   "execution_count": 18,
   "metadata": {},
   "outputs": [
    {
     "name": "stdout",
     "output_type": "stream",
     "text": [
      "Enter value of a:12\n",
      "Enter value of b:15\n",
      "Enter value of c:12\n",
      "Maximum: 15\n"
     ]
    }
   ],
   "source": [
    "a=int(input(\"Enter value of a:\"))\n",
    "b=int(input(\"Enter value of b:\"))\n",
    "c=int(input(\"Enter value of c:\"))\n",
    "if a>b:\n",
    "    if a>c:\n",
    "        print(\"Maximum:\",a)\n",
    "    else:\n",
    "        print(\"Maximum:\",c)\n",
    "elif b>a:\n",
    "    if b>c:\n",
    "        print(\"Maximum:\",b)\n",
    "    else:\n",
    "        print(\"Maximum:\",c)"
   ]
  },
  {
   "cell_type": "markdown",
   "metadata": {},
   "source": [
    "### 05) WAP to check whether the given year is leap year or not.\n",
    "[If a year can be divisible by 4 but not divisible by 100 then it is leap year but if it is divisible by 400 then it is leap year]"
   ]
  },
  {
   "cell_type": "code",
   "execution_count": 19,
   "metadata": {},
   "outputs": [
    {
     "name": "stdout",
     "output_type": "stream",
     "text": [
      "Enter year:12\n",
      "Leap year\n"
     ]
    }
   ],
   "source": [
    "year=int(input(\"Enter year:\"))\n",
    "if year%4==0 and year%100!=0:\n",
    "    print(\"Leap year\")\n",
    "elif year%400==0:\n",
    "    print(\"Leap year\")\n",
    "else:\n",
    "    print(\"Not leap year\")"
   ]
  },
  {
   "cell_type": "markdown",
   "metadata": {},
   "source": [
    "### 06) WAP in python to display the name of the day according to the number given by the user"
   ]
  },
  {
   "cell_type": "code",
   "execution_count": 20,
   "metadata": {},
   "outputs": [
    {
     "name": "stdout",
     "output_type": "stream",
     "text": [
      "Enter your choice5\n",
      "Thursday\n"
     ]
    }
   ],
   "source": [
    "a=int(input(\"Enter your choice\"))\n",
    "if a==1:\n",
    "    print(\"Sunday\")\n",
    "elif a==2:\n",
    "    print(\"Monday\")\n",
    "elif a==3:\n",
    "    print(\"Tuesday\")\n",
    "elif a==4:\n",
    "    print(\"Wednesday\")\n",
    "elif a==5:\n",
    "    print(\"Thursday\")\n",
    "elif a==6:\n",
    "    print(\"Friday\")\n",
    "elif a==7:\n",
    "    print(\"Saturday\")\n",
    "else:\n",
    "    print(\"INVALID INPUT\")"
   ]
  },
  {
   "cell_type": "markdown",
   "metadata": {},
   "source": [
    "### 07) WAP to implement simple calculator which performs (add,sub,mul,div) of two no. based on user input."
   ]
  },
  {
   "cell_type": "code",
   "execution_count": 21,
   "metadata": {},
   "outputs": [
    {
     "name": "stdout",
     "output_type": "stream",
     "text": [
      "Enter your choice\n",
      " 1.Addition\n",
      "2.Subtraction\n",
      "3.Multiplication\n",
      "4.Division\n",
      "3\n",
      "Enter value 1:12\n",
      "Enter value 2:15\n",
      "Multiplication= 180\n"
     ]
    }
   ],
   "source": [
    "a=int(input(\"Enter your choice\\n 1.Addition\\n2.Subtraction\\n3.Multiplication\\n4.Division\\n\"))\n",
    "n1=int(input(\"Enter value 1:\"))\n",
    "n2=int(input(\"Enter value 2:\"))\n",
    "if a==1:\n",
    "    print(\"Sum=\",n1+n2)\n",
    "elif a==2:\n",
    "    print(\"Difference=\",n1-n2)\n",
    "elif a==3:\n",
    "    print(\"Multiplication=\",n1*n2)\n",
    "elif a==4:\n",
    "    print(\"Division=\",n1/n2)\n",
    "else:\n",
    "    print(\"INVALID INPUT\")"
   ]
  },
  {
   "cell_type": "markdown",
   "metadata": {},
   "source": [
    "### 08) WAP to calculate electricity bill based on following criteria. Which takes the unit from the user.\n",
    "a. First 1 to 50 units – Rs. 2.60/unit</br>\n",
    "b. Next 50 to 100 units – Rs. 3.25/unit</br>\n",
    "c. Next 100 to 200 units – Rs. 5.26/unit</br>\n",
    "d. above 200 units – Rs. 8.45/unit"
   ]
  },
  {
   "cell_type": "code",
   "execution_count": 22,
   "metadata": {},
   "outputs": [
    {
     "name": "stdout",
     "output_type": "stream",
     "text": [
      "Enter units125\n",
      "Rs. 424.0\n"
     ]
    }
   ],
   "source": [
    "unit=int(input(\"Enter units\"))\n",
    "if unit>=1 and unit<50:\n",
    "    print(\"Rs.\",unit*2.60)\n",
    "elif unit>=50 and unit<100:\n",
    "    print(\"Rs.\",((50*2.60)+((unit-50)*3.25)))\n",
    "elif unit>=100 and unit<200:\n",
    "    print(\"Rs.\",((50*2.60)+(50*3.25)+((unit-100)*5.26)))\n",
    "elif unit>=200:\n",
    "    print(\"Rs.\",((50*2.60)+(50*3.25)+(100*5.26)+((unit-200)*8.45)))"
   ]
  },
  {
   "cell_type": "markdown",
   "metadata": {},
   "source": [
    "### 01) WAP to read marks of five subjects. Calculate percentage and print class accordingly. \n",
    "Fail below 35 </br>\n",
    "Pass Class between 35 to 45 </br>\n",
    "Second Class</br>\n",
    "between 45 to 60</br>\n",
    "First Class between 60 to 70</br> \n",
    "Distinction if more than 70"
   ]
  },
  {
   "cell_type": "code",
   "execution_count": 23,
   "metadata": {},
   "outputs": [
    {
     "name": "stdout",
     "output_type": "stream",
     "text": [
      "Enter marks of python25\n",
      "Enter marks of Digital Analysis and Algo26\n",
      "Enter marks of Data Structure24\n",
      "Enter marks of OS28\n",
      "Enter marks of AI-ML29\n",
      "Fail\n"
     ]
    }
   ],
   "source": [
    "phy=int(input(\"Enter marks of python\"))\n",
    "daa=int(input(\"Enter marks of Digital Analysis and Algo\"))\n",
    "ds=int(input(\"Enter marks of Data Structure\"))\n",
    "os=int(input(\"Enter marks of OS\"))\n",
    "ai=int(input(\"Enter marks of AI-ML\"))\n",
    "total_marks=(phy+daa+ds+os+ai)\n",
    "perc=total_marks/5\n",
    "if perc<35:\n",
    "    print(\"Fail\")\n",
    "elif perc>=35 and perc<45:\n",
    "    print(\"Pass Class\")\n",
    "elif perc>=45 and perc<60:\n",
    "    print(\"Second Class\")\n",
    "elif perc>=60 and perc<70:\n",
    "    print(\"First Class\")\n",
    "else:\n",
    "    print(\"Distinction\")"
   ]
  },
  {
   "cell_type": "markdown",
   "metadata": {},
   "source": [
    "### 02) WAP to find out the Maximum and Minimum number from given 4 numbers."
   ]
  },
  {
   "cell_type": "code",
   "execution_count": 24,
   "metadata": {},
   "outputs": [
    {
     "name": "stdout",
     "output_type": "stream",
     "text": [
      "Enter value of a:45\n",
      "Enter value of b:23\n",
      "Enter value of c:12\n",
      "Enter value of d:43\n",
      "Maximum: 45\n"
     ]
    }
   ],
   "source": [
    "a=int(input(\"Enter value of a:\"))\n",
    "b=int(input(\"Enter value of b:\"))\n",
    "c=int(input(\"Enter value of c:\"))\n",
    "d=int(input(\"Enter value of d:\"))\n",
    "if a>b:\n",
    "    if a>c:\n",
    "        if a>d:\n",
    "            print(\"Maximum:\",a)\n",
    "        else:\n",
    "            print(\"Maximum:\",d)\n",
    "    else:\n",
    "        if c>d:\n",
    "            print(\"Maximum:\",c)\n",
    "        else:\n",
    "            print(\"Maximum:\",d)\n",
    "else:\n",
    "    if b>c:\n",
    "        if b>d:\n",
    "            print(\"Maximum:\",b)\n",
    "        else:\n",
    "            print(\"Maximum:\",d)\n",
    "    else:\n",
    "        if c>d:\n",
    "            print(\"Maximum:\",c)\n",
    "        else:\n",
    "            print(\"Maximum:\",d)\n",
    "if a<b and a<c and a<d:\n",
    "    smallest=a\n",
    "if b<a and b<c and b<d:\n",
    "    smallest=b\n",
    "if c<a and c<b and c<d:\n",
    "    smallest=c\n",
    "else:\n",
    "    smallest=d\n",
    "    print(\"Minimum:\",smallest)"
   ]
  },
  {
   "cell_type": "markdown",
   "metadata": {},
   "source": [
    "### 03) WAP to input an integer number and check the last digit of number is even or odd."
   ]
  },
  {
   "cell_type": "code",
   "execution_count": 26,
   "metadata": {},
   "outputs": [
    {
     "name": "stdout",
     "output_type": "stream",
     "text": [
      "Enter value of a:12\n",
      "last digit is even\n"
     ]
    }
   ],
   "source": [
    "a=int(input(\"Enter value of a:\"))\n",
    "mod=a%10\n",
    "if mod%2==0:\n",
    "    print(\"last digit is even\");\n",
    "else:\n",
    "    print(\"last digit is odd\")"
   ]
  },
  {
   "cell_type": "markdown",
   "metadata": {},
   "source": [
    "### 04) WAP to determine the roots of the equation ax2+bx+c=0."
   ]
  },
  {
   "cell_type": "code",
   "execution_count": 27,
   "metadata": {},
   "outputs": [
    {
     "name": "stdout",
     "output_type": "stream",
     "text": [
      "Enter value of a in ax2+bx2+c:12\n",
      "Enter value of a in ax2+bx2+c:21\n",
      "Enter value of a in ax2+bx2+c:15\n",
      "the root are :  (-0.875+0.6959705453537528j) (-0.875-0.6959705453537528j)\n"
     ]
    }
   ],
   "source": [
    "import cmath\n",
    "a=int(input(\"Enter value of a in ax2+bx2+c:\"))\n",
    "b=int(input(\"Enter value of a in ax2+bx2+c:\"))\n",
    "c=int(input(\"Enter value of a in ax2+bx2+c:\"))\n",
    "d=(b*b)-(4*a*c)\n",
    "x=(-b+cmath.sqrt(d))/(2*a)\n",
    "y=(-b-cmath.sqrt(d))/(2*a)\n",
    "print(\"the root are : \",x,y)"
   ]
  },
  {
   "cell_type": "code",
   "execution_count": null,
   "metadata": {},
   "outputs": [],
   "source": []
  }
 ],
 "metadata": {
  "kernelspec": {
   "display_name": "Python 3 (ipykernel)",
   "language": "python",
   "name": "python3"
  },
  "language_info": {
   "codemirror_mode": {
    "name": "ipython",
    "version": 3
   },
   "file_extension": ".py",
   "mimetype": "text/x-python",
   "name": "python",
   "nbconvert_exporter": "python",
   "pygments_lexer": "ipython3",
   "version": "3.9.13"
  }
 },
 "nbformat": 4,
 "nbformat_minor": 4
}
