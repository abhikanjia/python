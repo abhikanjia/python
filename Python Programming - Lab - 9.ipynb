{
 "cells": [
  {
   "cell_type": "markdown",
   "metadata": {},
   "source": [
    "<a href='https://www.darshan.ac.in/'> <img src='https://www.darshan.ac.in/Content/media/DU_Logo.svg' width=\"250\" height=\"300\"/></a>\n",
    "<pre>\n",
    "<center><b><h1>Python Programming - 2101CS405</b></center>\n",
    "<center><b><h1>Lab - 9</b></center>    \n",
    "<pre>"
   ]
  },
  {
   "cell_type": "markdown",
   "metadata": {},
   "source": [
    "# Exception Handling"
   ]
  },
  {
   "cell_type": "markdown",
   "metadata": {},
   "source": [
    "# A"
   ]
  },
  {
   "cell_type": "markdown",
   "metadata": {},
   "source": [
    "### 01) WAP to handle divide by zero exception."
   ]
  },
  {
   "cell_type": "code",
   "execution_count": 1,
   "metadata": {},
   "outputs": [
    {
     "name": "stdout",
     "output_type": "stream",
     "text": [
      "Zero Division Error Occured!!!\n"
     ]
    }
   ],
   "source": [
    "try:\n",
    "    7/0\n",
    "except ZeroDivisionError:\n",
    "    print(\"Zero Division Error Occured!!!\")"
   ]
  },
  {
   "cell_type": "markdown",
   "metadata": {},
   "source": [
    "### 02)  Write a Python program that inputs a number and generates an error message if it is not a number."
   ]
  },
  {
   "cell_type": "code",
   "execution_count": 3,
   "metadata": {},
   "outputs": [
    {
     "name": "stdout",
     "output_type": "stream",
     "text": [
      "dgdf\n",
      "Input is not a number\n"
     ]
    }
   ],
   "source": [
    "try:\n",
    "    num=int(input())\n",
    "except ValueError:\n",
    "    print(\"Input is not a number\")"
   ]
  },
  {
   "cell_type": "markdown",
   "metadata": {},
   "source": [
    "### 03) WAP to handle file not found Exception"
   ]
  },
  {
   "cell_type": "code",
   "execution_count": 4,
   "metadata": {},
   "outputs": [
    {
     "name": "stdout",
     "output_type": "stream",
     "text": [
      "file is not found\n"
     ]
    }
   ],
   "source": [
    "try:\n",
    "    fileobj=open(\"abc.txt\")\n",
    "except:\n",
    "    print(\"file is not found\")"
   ]
  },
  {
   "cell_type": "markdown",
   "metadata": {},
   "source": [
    "### 04) WAP to handle type Exception."
   ]
  },
  {
   "cell_type": "code",
   "execution_count": 5,
   "metadata": {},
   "outputs": [
    {
     "name": "stdout",
     "output_type": "stream",
     "text": [
      "Type Exception is Occured\n"
     ]
    }
   ],
   "source": [
    "try:\n",
    "    num=10\n",
    "    print(\"abc\"+num)\n",
    "except TypeError:\n",
    "    print(\"Type Exception is Occured\")"
   ]
  },
  {
   "cell_type": "markdown",
   "metadata": {},
   "source": [
    "### 05) WAP to demonstrate valueError and indexError with example."
   ]
  },
  {
   "cell_type": "code",
   "execution_count": 11,
   "metadata": {},
   "outputs": [
    {
     "name": "stdout",
     "output_type": "stream",
     "text": [
      "enter numberdasd\n",
      "Value Error Occured\n"
     ]
    }
   ],
   "source": [
    "try:\n",
    "    num=int(input(\"enter number\"))\n",
    "    arr_list=[10,20,3,0]\n",
    "    arr_list[5]\n",
    "except ValueError:\n",
    "    print(\"Value Error Occured\")\n",
    "except IndexError:\n",
    "    print(\"index Error Occured\")"
   ]
  },
  {
   "cell_type": "markdown",
   "metadata": {},
   "source": [
    "### 06) WAP to domonstrate else  and finally block."
   ]
  },
  {
   "cell_type": "code",
   "execution_count": 15,
   "metadata": {},
   "outputs": [
    {
     "name": "stdout",
     "output_type": "stream",
     "text": [
      "2000.0\n",
      "This is always executed\n"
     ]
    }
   ],
   "source": [
    "money = 10000\n",
    "try:   \n",
    "    a = money / 5\n",
    "except:\n",
    "    print(\"division by zero\")\n",
    "else: \n",
    "    print(a)\n",
    "finally:\n",
    "    print('This is always executed')\n",
    "    "
   ]
  },
  {
   "cell_type": "markdown",
   "metadata": {},
   "source": [
    "### 07) Create a short program that prompts the user for a list of grades separated by commas. Split the string into individual grades and use a list comprehension to convert each string to an integer. You should use a try statement to inform the user when the values they entered cannot be converted."
   ]
  },
  {
   "cell_type": "code",
   "execution_count": 32,
   "metadata": {},
   "outputs": [
    {
     "name": "stdout",
     "output_type": "stream",
     "text": [
      "Please enter your grades, separated by commas: 45,65,89\n",
      "[45, 65, 89]\n"
     ]
    }
   ],
   "source": [
    "grades = input(\"Please enter your grades, separated by commas: \").split(\",\")\n",
    "grades = [grade.strip() for grade in grades]\n",
    "try:\n",
    "    grades = [int(grade) for grade in grades]\n",
    "    print(grades)\n",
    "except ValueError:\n",
    "    print(\"The grades you entered were in an invalid format.\")"
   ]
  },
  {
   "cell_type": "markdown",
   "metadata": {},
   "source": []
  },
  {
   "cell_type": "markdown",
   "metadata": {},
   "source": [
    "# B"
   ]
  },
  {
   "cell_type": "markdown",
   "metadata": {},
   "source": [
    "### 01) WAP to Raising User Generated Exception."
   ]
  },
  {
   "cell_type": "code",
   "execution_count": 16,
   "metadata": {},
   "outputs": [
    {
     "name": "stdout",
     "output_type": "stream",
     "text": [
      "division by zero\n"
     ]
    }
   ],
   "source": [
    "try:\n",
    "    raise ZeroDivisionError\n",
    "except ZeroDivisionError:\n",
    "    print(\"division by zero\")"
   ]
  },
  {
   "cell_type": "markdown",
   "metadata": {},
   "source": [
    "### 02) WAP to raise your custom Exception."
   ]
  },
  {
   "cell_type": "code",
   "execution_count": 26,
   "metadata": {},
   "outputs": [
    {
     "name": "stdout",
     "output_type": "stream",
     "text": [
      "Enter Number-6\n",
      "Number is negative\n"
     ]
    }
   ],
   "source": [
    "class NegativeNumberException(Exception):    \n",
    "    \"Raised when the input value is less than 0\"\n",
    "    def __init__(self, arg=\"custom error\"):\n",
    "        self.arg = arg\n",
    "try:    \n",
    "    a = int(input(\"Enter Number\"))\n",
    "    if a > 0:\n",
    "        print(a)\n",
    "    else:\n",
    "        raise NegativeNumberException(\"Number is negative\")\n",
    "except NegativeNumberException as e:\n",
    "    print(e.arg)"
   ]
  },
  {
   "cell_type": "code",
   "execution_count": null,
   "metadata": {},
   "outputs": [],
   "source": []
  }
 ],
 "metadata": {
  "kernelspec": {
   "display_name": "Python 3 (ipykernel)",
   "language": "python",
   "name": "python3"
  },
  "language_info": {
   "codemirror_mode": {
    "name": "ipython",
    "version": 3
   },
   "file_extension": ".py",
   "mimetype": "text/x-python",
   "name": "python",
   "nbconvert_exporter": "python",
   "pygments_lexer": "ipython3",
   "version": "3.9.13"
  }
 },
 "nbformat": 4,
 "nbformat_minor": 4
}
