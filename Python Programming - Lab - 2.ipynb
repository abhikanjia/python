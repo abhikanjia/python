{
 "cells": [
  {
   "cell_type": "markdown",
   "metadata": {},
   "source": [
    "\n",
    "<a href='https://www.darshan.ac.in/'> <img src='https://www.darshan.ac.in/Content/media/DU_Logo.svg' width=\"250\" height=\"300\"/></a>\n",
    "<pre>\n",
    "<center><b><h1>Python Programming - 2101CS405</b></center>\n",
    "<center><b><h1>Lab - 2</b></center>    \n",
    "<pre>"
   ]
  },
  {
   "cell_type": "markdown",
   "metadata": {},
   "source": [
    "# if..else.."
   ]
  },
  {
   "cell_type": "markdown",
   "metadata": {},
   "source": [
    "### 01) WAP to check whether the given number is positive or negative."
   ]
  },
  {
   "cell_type": "code",
   "execution_count": 2,
   "metadata": {},
   "outputs": [
    {
     "name": "stdout",
     "output_type": "stream",
     "text": [
      "enter num:-8\n",
      "-8 is a negative number\n"
     ]
    }
   ],
   "source": [
    "a=int(input(\"enter num:\"))\n",
    "\n",
    "if a>=0:\n",
    "    print(a,\"is a positive number\")\n",
    "else:\n",
    "    print(a,\"is a negative number\")"
   ]
  },
  {
   "cell_type": "markdown",
   "metadata": {},
   "source": [
    "### 02) WAP to check whether the given number is odd or even"
   ]
  },
  {
   "cell_type": "code",
   "execution_count": 4,
   "metadata": {},
   "outputs": [
    {
     "name": "stdout",
     "output_type": "stream",
     "text": [
      "enter num:3\n",
      "3 is an odd number\n"
     ]
    }
   ],
   "source": [
    "a=int(input(\"enter num:\"))\n",
    "\n",
    "if a%2==0:\n",
    "    print(a,\"is an even number\")\n",
    "else:\n",
    "    print(a,\"is an odd number\")"
   ]
  },
  {
   "cell_type": "markdown",
   "metadata": {},
   "source": [
    "### 03) WAP to find out largest number from given two numbers using simple if and ternary operator."
   ]
  },
  {
   "cell_type": "code",
   "execution_count": 7,
   "metadata": {},
   "outputs": [
    {
     "name": "stdout",
     "output_type": "stream",
     "text": [
      "enter first num:8\n",
      "enter second num:78\n",
      "78 is the big num\n"
     ]
    }
   ],
   "source": [
    "a=int(input(\"enter first num:\"))\n",
    "b=int(input(\"enter second num:\"))\n",
    "\n",
    "# using simple if\n",
    "if a>b:\n",
    "    print(a,\"is the big number\")\n",
    "if b>a:\n",
    "    print(b,\"is the big number\")\n",
    "    \n",
    "# using ternary operator\n",
    "max=a if a>b else b\n",
    "print(max,\"is the big num\")"
   ]
  },
  {
   "cell_type": "markdown",
   "metadata": {},
   "source": [
    "### 04) WAP to find out largest number from given three numbers."
   ]
  },
  {
   "cell_type": "code",
   "execution_count": 8,
   "metadata": {},
   "outputs": [
    {
     "name": "stdout",
     "output_type": "stream",
     "text": [
      "enter first num:4\n",
      "enter second num:8\n",
      "enter third num:9\n",
      "9 is the greatest among all\n"
     ]
    }
   ],
   "source": [
    "a=int(input(\"enter first num:\"))\n",
    "b=int(input(\"enter second num:\"))\n",
    "c=int(input(\"enter third num:\"))\n",
    "\n",
    "if a>b:\n",
    "    if a>c:\n",
    "        print(a,\"is the greatest among all\")\n",
    "    else:\n",
    "        print(c,\"is the greatest among all\")\n",
    "else:\n",
    "    if b>c:\n",
    "        print(b,\"is the greatest among all\")\n",
    "    else:\n",
    "        print(c,\"is the greatest among all\")\n",
    "    "
   ]
  },
  {
   "cell_type": "markdown",
   "metadata": {},
   "source": [
    "### 05) WAP to check whether the given year is leap year or not.\n",
    "[If a year can be divisible by 4 but not divisible by 100 then it is leap year but if it is divisible by 400 then it is leap year]"
   ]
  },
  {
   "cell_type": "code",
   "execution_count": 17,
   "metadata": {},
   "outputs": [
    {
     "name": "stdout",
     "output_type": "stream",
     "text": [
      "enter the year:2024\n",
      "2024 is a leap year\n"
     ]
    }
   ],
   "source": [
    "year=int(input(\"enter the year:\"))\n",
    "\n",
    "if year%4==0 and year%100!=0 :\n",
    "    print(year,\"is a leap year\")\n",
    "elif year%400==0 :\n",
    "    print(year,\"is a leap year\")\n",
    "else:\n",
    "    print(year,\"is not a leap year\")"
   ]
  },
  {
   "cell_type": "markdown",
   "metadata": {},
   "source": [
    "### 06) WAP in python to display the name of the day according to the number given by the user"
   ]
  },
  {
   "cell_type": "code",
   "execution_count": 20,
   "metadata": {},
   "outputs": [
    {
     "name": "stdout",
     "output_type": "stream",
     "text": [
      "enter the num between 1 to 7 :5\n",
      "thursday\n"
     ]
    }
   ],
   "source": [
    "a=int(input(\"enter the num between 1 to 7 :\"))\n",
    "if a==1:\n",
    "    print(\"sunday\")\n",
    "elif a==2:\n",
    "    print(\"monday\")\n",
    "elif a==3:\n",
    "    print(\"tuesday\")\n",
    "elif a==4:\n",
    "    print(\"wednesday\")\n",
    "elif a==5:\n",
    "    print(\"thursday\")\n",
    "elif a==6:\n",
    "    print(\"friday\")\n",
    "elif a==7:\n",
    "    print(\"saturday\")\n",
    "else:\n",
    "    print(\"enter valid number!!!\")"
   ]
  },
  {
   "cell_type": "markdown",
   "metadata": {},
   "source": [
    "### 07) WAP to implement simple calculator which performs (add,sub,mul,div) of two no. based on user input."
   ]
  },
  {
   "cell_type": "code",
   "execution_count": null,
   "metadata": {},
   "outputs": [],
   "source": []
  },
  {
   "cell_type": "markdown",
   "metadata": {},
   "source": [
    "### 08) WAP to calculate electricity bill based on following criteria. Which takes the unit from the user.\n",
    "a. First 1 to 50 units – Rs. 2.60/unit</br>\n",
    "b. Next 50 to 100 units – Rs. 3.25/unit</br>\n",
    "c. Next 100 to 200 units – Rs. 5.26/unit</br>\n",
    "d. above 200 units – Rs. 8.45/unit"
   ]
  },
  {
   "cell_type": "code",
   "execution_count": null,
   "metadata": {},
   "outputs": [],
   "source": []
  },
  {
   "cell_type": "markdown",
   "metadata": {},
   "source": [
    "### 01) WAP to read marks of five subjects. Calculate percentage and print class accordingly. \n",
    "Fail below 35 </br>\n",
    "Pass Class between 35 to 45 </br>\n",
    "Second Class</br>\n",
    "between 45 to 60</br>\n",
    "First Class between 60 to 70</br> \n",
    "Distinction if more than 70"
   ]
  },
  {
   "cell_type": "code",
   "execution_count": null,
   "metadata": {},
   "outputs": [],
   "source": []
  },
  {
   "cell_type": "markdown",
   "metadata": {},
   "source": [
    "### 02) WAP to find out the Maximum and Minimum number from given 4 numbers."
   ]
  },
  {
   "cell_type": "code",
   "execution_count": null,
   "metadata": {},
   "outputs": [],
   "source": []
  },
  {
   "cell_type": "markdown",
   "metadata": {},
   "source": [
    "### 03) WAP to input an integer number and check the last digit of number is even or odd."
   ]
  },
  {
   "cell_type": "code",
   "execution_count": null,
   "metadata": {},
   "outputs": [],
   "source": []
  },
  {
   "cell_type": "markdown",
   "metadata": {},
   "source": [
    "### 04) WAP to determine the roots of the equation ax2+bx+c=0."
   ]
  },
  {
   "cell_type": "code",
   "execution_count": null,
   "metadata": {},
   "outputs": [],
   "source": []
  }
 ],
 "metadata": {
  "kernelspec": {
   "display_name": "Python 3 (ipykernel)",
   "language": "python",
   "name": "python3"
  },
  "language_info": {
   "codemirror_mode": {
    "name": "ipython",
    "version": 3
   },
   "file_extension": ".py",
   "mimetype": "text/x-python",
   "name": "python",
   "nbconvert_exporter": "python",
   "pygments_lexer": "ipython3",
   "version": "3.9.13"
  }
 },
 "nbformat": 4,
 "nbformat_minor": 4
}
