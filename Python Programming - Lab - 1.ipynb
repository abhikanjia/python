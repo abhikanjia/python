{
 "cells": [
  {
   "cell_type": "markdown",
   "metadata": {},
   "source": [
    "<a href='https://www.darshan.ac.in/'> <img src='https://www.darshan.ac.in/Content/media/DU_Logo.svg' width=\"250\" height=\"300\"/></a>\n",
    "<pre>\n",
    "<center><b><h1>Python Programming - 2101CS405</b></center>\n",
    "<center><b><h1>Lab - 1</b></center>    \n",
    "<pre>"
   ]
  },
  {
   "cell_type": "markdown",
   "metadata": {},
   "source": [
    "### 01) WAP to print “Hello World”"
   ]
  },
  {
   "cell_type": "code",
   "execution_count": 2,
   "metadata": {},
   "outputs": [
    {
     "name": "stdout",
     "output_type": "stream",
     "text": [
      "Hello World\n"
     ]
    }
   ],
   "source": [
    "print(\"Hello World\")"
   ]
  },
  {
   "cell_type": "markdown",
   "metadata": {},
   "source": [
    "### 02) WAP to print your address i) using single print ii) using multiple print"
   ]
  },
  {
   "cell_type": "markdown",
   "metadata": {},
   "source": [
    "# single print  "
   ]
  },
  {
   "cell_type": "code",
   "execution_count": 3,
   "metadata": {},
   "outputs": [
    {
     "name": "stdout",
     "output_type": "stream",
     "text": [
      "501,sardar palace,sanala road,morbi\n"
     ]
    }
   ],
   "source": [
    "print(\"501,sardar palace,sanala road,morbi\")"
   ]
  },
  {
   "cell_type": "markdown",
   "metadata": {},
   "source": [
    "# multiple print"
   ]
  },
  {
   "cell_type": "code",
   "execution_count": 4,
   "metadata": {},
   "outputs": [
    {
     "name": "stdout",
     "output_type": "stream",
     "text": [
      "501,\n",
      "sardar palace,\n",
      "sanala road,\n",
      "morbi\n"
     ]
    }
   ],
   "source": [
    "print(\"501,\")\n",
    "print(\"sardar palace,\")\n",
    "print(\"sanala road,\")\n",
    "print(\"morbi\")"
   ]
  },
  {
   "cell_type": "markdown",
   "metadata": {},
   "source": [
    "### 03) WAP to print addition of 2 numbers (without input function)"
   ]
  },
  {
   "cell_type": "code",
   "execution_count": 5,
   "metadata": {},
   "outputs": [
    {
     "name": "stdout",
     "output_type": "stream",
     "text": [
      "your ans is 9\n"
     ]
    }
   ],
   "source": [
    "a=5\n",
    "b=4\n",
    "print(\"your ans is\", a+b)"
   ]
  },
  {
   "cell_type": "markdown",
   "metadata": {},
   "source": [
    "### 04) WAP to calculate and print average of 2 numbers (without input function)"
   ]
  },
  {
   "cell_type": "code",
   "execution_count": 7,
   "metadata": {},
   "outputs": [
    {
     "name": "stdout",
     "output_type": "stream",
     "text": [
      "your ans is 6\n"
     ]
    }
   ],
   "source": [
    "a=5\n",
    "b=7\n",
    "print(\"your ans is\", (a+b)//2)"
   ]
  },
  {
   "cell_type": "markdown",
   "metadata": {},
   "source": [
    "### 05) WAP to add two number entered by user."
   ]
  },
  {
   "cell_type": "code",
   "execution_count": 8,
   "metadata": {},
   "outputs": [
    {
     "name": "stdout",
     "output_type": "stream",
     "text": [
      "enter first num:5\n",
      "enter second num:4\n",
      "your ans is 9\n"
     ]
    }
   ],
   "source": [
    "a=int(input(\"enter first num:\"))\n",
    "b=int(input(\"enter second num:\"))\n",
    "print(\"your ans is\", a+b)"
   ]
  },
  {
   "cell_type": "markdown",
   "metadata": {},
   "source": [
    "### 06) WAP to calculate simple interest."
   ]
  },
  {
   "cell_type": "code",
   "execution_count": 9,
   "metadata": {},
   "outputs": [
    {
     "name": "stdout",
     "output_type": "stream",
     "text": [
      "enter p:5\n",
      "enter r:6\n",
      "enter n:7\n",
      "ans  2.1\n"
     ]
    }
   ],
   "source": [
    "p=int(input(\"enter p:\"))\n",
    "r=int(input(\"enter r:\"))\n",
    "n=int(input(\"enter n:\"))\n",
    "print(\"ans \",(p*r*n)/100)"
   ]
  },
  {
   "cell_type": "markdown",
   "metadata": {},
   "source": [
    "### 07) WAP Calculate Area and Circumfrence of Circle"
   ]
  },
  {
   "cell_type": "code",
   "execution_count": 10,
   "metadata": {},
   "outputs": [
    {
     "name": "stdout",
     "output_type": "stream",
     "text": [
      "enter radius:5\n",
      "area is  78.5\n",
      "circumfrence is  31.400000000000002\n"
     ]
    }
   ],
   "source": [
    "r=float(input(\"enter radius:\"))\n",
    "print(\"area is \",3.14*r*r)\n",
    "print(\"circumfrence is \",2*3.14*r)"
   ]
  },
  {
   "cell_type": "markdown",
   "metadata": {},
   "source": [
    "### 08) WAP to print Multiplication table of given number without using loops."
   ]
  },
  {
   "cell_type": "code",
   "execution_count": 11,
   "metadata": {},
   "outputs": [
    {
     "name": "stdout",
     "output_type": "stream",
     "text": [
      "enter n:5\n",
      "5 x 1 = 5\n",
      "5 x 2 = 10\n",
      "5 x 3 = 15\n",
      "5 x 4 = 20\n",
      "5 x 5 = 25\n",
      "5 x 6 = 30\n",
      "5 x 7 = 35\n",
      "5 x 8 = 40\n",
      "5 x 9 = 45\n",
      "5 x 10 = 50\n"
     ]
    }
   ],
   "source": [
    "n=int(input(\"enter n:\"))\n",
    "print(n,\"x\",1,\"=\",n*1,sep=\" \")\n",
    "print(n,\"x\",2,\"=\",n*2,sep=\" \")\n",
    "print(n,\"x\",3,\"=\",n*3,sep=\" \")\n",
    "print(n,\"x\",4,\"=\",n*4,sep=\" \")\n",
    "print(n,\"x\",5,\"=\",n*5,sep=\" \")\n",
    "print(n,\"x\",6,\"=\",n*6,sep=\" \")\n",
    "print(n,\"x\",7,\"=\",n*7,sep=\" \")\n",
    "print(n,\"x\",8,\"=\",n*8,sep=\" \")\n",
    "print(n,\"x\",9,\"=\",n*9,sep=\" \")\n",
    "print(n,\"x\",10,\"=\",n*10,sep=\" \")"
   ]
  },
  {
   "cell_type": "markdown",
   "metadata": {},
   "source": [
    "### 09) WAP to calculate Area of Triangle (hint: a = h * b * 0.5)"
   ]
  },
  {
   "cell_type": "code",
   "execution_count": 13,
   "metadata": {},
   "outputs": [
    {
     "name": "stdout",
     "output_type": "stream",
     "text": [
      "enter b:5\n",
      "enter h:6\n",
      "are of triangle is  15.0\n"
     ]
    }
   ],
   "source": [
    "b=int(input(\"enter b:\"))\n",
    "h=int(input(\"enter h:\"))\n",
    "print(\"are of triangle is \",(b*h)/2)"
   ]
  },
  {
   "cell_type": "markdown",
   "metadata": {},
   "source": [
    "### 10) WAP to convert degree to Fahrenheit and vice versa."
   ]
  },
  {
   "cell_type": "code",
   "execution_count": 15,
   "metadata": {},
   "outputs": [
    {
     "name": "stdout",
     "output_type": "stream",
     "text": [
      "enter celcius:32\n",
      "feranhit is: 89.6\n",
      "enter feranhit:32\n",
      "celcius is: 0.0\n"
     ]
    }
   ],
   "source": [
    "c=float(input(\"enter celcius:\"))\n",
    "print(\"feranhit is:\",(c *(9/5))+32)\n",
    "f=float(input(\"enter feranhit:\"))\n",
    "print(\"celcius is:\" ,(f - 32) * (5/9))"
   ]
  },
  {
   "cell_type": "markdown",
   "metadata": {},
   "source": [
    "### 11) WAP to calculate total marks and Percentage."
   ]
  },
  {
   "cell_type": "code",
   "execution_count": 16,
   "metadata": {},
   "outputs": [
    {
     "name": "stdout",
     "output_type": "stream",
     "text": [
      "enter marks of first sub:89\n",
      "enter marks of second sub:65\n",
      "enter marks of third sub:78\n",
      "enter marks of fourth sub:58\n",
      "enter marks of fifth sub:43\n",
      "PER IS : 66.6\n"
     ]
    }
   ],
   "source": [
    "m1=int(input(\"enter marks of first sub:\"))\n",
    "m2=int(input(\"enter marks of second sub:\"))\n",
    "m3=int(input(\"enter marks of third sub:\"))\n",
    "m4=int(input(\"enter marks of fourth sub:\"))\n",
    "m5=int(input(\"enter marks of fifth sub:\"))\n",
    "\n",
    "per=(m1+m2+m3+m4+m5)/5\n",
    "\n",
    "print(\"PER IS :\",per)"
   ]
  },
  {
   "cell_type": "markdown",
   "metadata": {},
   "source": [
    "### 12) Compute distance between two points taking input from the user (Pythagorean Theorem)."
   ]
  },
  {
   "cell_type": "code",
   "execution_count": 17,
   "metadata": {},
   "outputs": [
    {
     "name": "stdout",
     "output_type": "stream",
     "text": [
      "enter x1:2\n",
      "enter y1:3\n",
      "enter x2:2\n",
      "enter y2:4\n",
      "ans is: 1.0\n"
     ]
    }
   ],
   "source": [
    "x1=float(input(\"enter x1:\"))\n",
    "y1=float(input(\"enter y1:\"))\n",
    "x2=float(input(\"enter x2:\"))\n",
    "y2=float(input(\"enter y2:\"))\n",
    "a= (x2-x1)**2\n",
    "b= (y2-y1)**2\n",
    "d=(a+b)**0.5\n",
    "print(\"ans is:\",d)"
   ]
  },
  {
   "cell_type": "markdown",
   "metadata": {},
   "source": [
    "### 13) WAP to convert seconds into hours, minutes & seconds and print in HH:MM:SS\n",
    "[e.g. 10000 seconds mean 2:46:40 (2 Hours, 46 Minutes, 40Seconds)]"
   ]
  },
  {
   "cell_type": "code",
   "execution_count": 19,
   "metadata": {},
   "outputs": [
    {
     "name": "stdout",
     "output_type": "stream",
     "text": [
      "enter seconds:10000\n",
      "hh:mm:ss=  2 : 46 : 40\n"
     ]
    }
   ],
   "source": [
    "sec=int(input(\"enter seconds:\"))\n",
    "h=sec//3600\n",
    "sec=sec%3600\n",
    "m=sec//60\n",
    "s=sec%60\n",
    "print(\"hh:mm:ss= \",h,\":\",m,\":\",s)"
   ]
  },
  {
   "cell_type": "markdown",
   "metadata": {},
   "source": [
    "### 14) WAP to enter distance into kilometer and convert it into meter, feet,inches, and centimeter"
   ]
  },
  {
   "cell_type": "code",
   "execution_count": 25,
   "metadata": {},
   "outputs": [
    {
     "name": "stdout",
     "output_type": "stream",
     "text": [
      "enter distance in km:5\n",
      "km is: 5.0 \n",
      "meter is: 5000.0 \n",
      "feet is: 16404.2 \n",
      "inch is: 196850.40000000002 \n",
      "cm is: 500000.0\n"
     ]
    }
   ],
   "source": [
    "km=float(input(\"enter distance in km:\"))\n",
    "meter=km*1000\n",
    "feet=km*3280.84\n",
    "inch=12*feet\n",
    "cm=meter*100\n",
    "print(\"km is:\",km,\"\\nmeter is:\",meter,\"\\nfeet is:\",feet,\"\\ninch is:\",inch,\"\\ncm is:\",cm)"
   ]
  }
 ],
 "metadata": {
  "kernelspec": {
   "display_name": "Python 3 (ipykernel)",
   "language": "python",
   "name": "python3"
  },
  "language_info": {
   "codemirror_mode": {
    "name": "ipython",
    "version": 3
   },
   "file_extension": ".py",
   "mimetype": "text/x-python",
   "name": "python",
   "nbconvert_exporter": "python",
   "pygments_lexer": "ipython3",
   "version": "3.9.13"
  }
 },
 "nbformat": 4,
 "nbformat_minor": 4
}
