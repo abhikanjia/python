{
 "cells": [
  {
   "cell_type": "markdown",
   "metadata": {},
   "source": [
    "\n",
    "<a href='https://www.darshan.ac.in/'> <img src='https://www.darshan.ac.in/Content/media/DU_Logo.svg' width=\"250\" height=\"300\"/></a>\n",
    "<pre>\n",
    "<center><b><h1>Python Programming - 2101CS405</b></center>\n",
    "<center><b><h1>Lab - 5</b></center>    \n",
    "<pre>"
   ]
  },
  {
   "cell_type": "markdown",
   "metadata": {},
   "source": [
    "# list"
   ]
  },
  {
   "cell_type": "markdown",
   "metadata": {},
   "source": [
    "### 01) WAP to find sum of all the elements in List."
   ]
  },
  {
   "cell_type": "code",
   "execution_count": 5,
   "metadata": {},
   "outputs": [
    {
     "name": "stdout",
     "output_type": "stream",
     "text": [
      "Enter Number Of Element : 5\n",
      "4\n",
      "78\n",
      "45\n",
      "15\n",
      "36\n",
      "[4, 78, 45, 15, 36]\n",
      "178\n"
     ]
    }
   ],
   "source": [
    "_list = []\n",
    "_sum = 0\n",
    "input1 = 0\n",
    "n = int(input(\"Enter Number Of Element : \"))\n",
    "for i in range(n):\n",
    "    input1 = int(input())\n",
    "    _list.append(input1)\n",
    "    _sum = _sum + input1\n",
    "print(_list)\n",
    "print(_sum)"
   ]
  },
  {
   "cell_type": "markdown",
   "metadata": {},
   "source": [
    "### 02) WAP to find largest element in a List."
   ]
  },
  {
   "cell_type": "code",
   "execution_count": 32,
   "metadata": {},
   "outputs": [
    {
     "name": "stdout",
     "output_type": "stream",
     "text": [
      "Enter Number Of Element : 4\n",
      "1\n",
      "2\n",
      "3\n",
      "4\n",
      "[1, 2, 3, 4]\n",
      "4\n"
     ]
    }
   ],
   "source": [
    "_list = []\n",
    "input1 = 0\n",
    "n = int(input(\"Enter Number Of Element : \"))\n",
    "for i in range(n):\n",
    "    input1 = int(input())\n",
    "    _list.append(input1)\n",
    "element = max(_list)\n",
    "print(_list)\n",
    "print(element)"
   ]
  },
  {
   "cell_type": "markdown",
   "metadata": {},
   "source": [
    "### 03) WAP to split the List into two and append the first part to the end."
   ]
  },
  {
   "cell_type": "code",
   "execution_count": 36,
   "metadata": {},
   "outputs": [
    {
     "name": "stdout",
     "output_type": "stream",
     "text": [
      "Enter Number Of Element : 4\n",
      "enter element1\n",
      "enter element2\n",
      "enter element3\n",
      "enter element4\n",
      "[3, 4, 1, 2]\n"
     ]
    }
   ],
   "source": [
    "listt = []\n",
    "input1 = 0\n",
    "n = int(input(\"Enter Number Of Element : \"))\n",
    "for i in range(n):\n",
    "    input1 = int(input(\"enter element\"))\n",
    "    listt.append(input1)\n",
    "first=listt[0:int(len(listt)/2):]\n",
    "second=listt[int(len(listt)/2)::]\n",
    "second+=first\n",
    "print(second)"
   ]
  },
  {
   "cell_type": "markdown",
   "metadata": {},
   "source": [
    "### 04) WAP to interchange first and last elements in list entered by a user."
   ]
  },
  {
   "cell_type": "code",
   "execution_count": 11,
   "metadata": {},
   "outputs": [
    {
     "name": "stdout",
     "output_type": "stream",
     "text": [
      "Enter Number Of Element : 5\n",
      "4\n",
      "6\n",
      "7\n",
      "8\n",
      "54\n",
      "[54, 6, 7, 8, 4]\n"
     ]
    }
   ],
   "source": [
    "list1 = []\n",
    "input1 = 0\n",
    "n = int(input(\"Enter Number Of Element : \"))\n",
    "for i in range(n):\n",
    "    input1 = int(input())\n",
    "    list1.append(input1)\n",
    "last_element = len(list1)-1\n",
    "list1[0] , list1[-1]=list1[-1] , list1[0]\n",
    "print(list1)"
   ]
  },
  {
   "cell_type": "markdown",
   "metadata": {},
   "source": [
    "### 05) WAP to interchange the elements on two positions entered by a user."
   ]
  },
  {
   "cell_type": "code",
   "execution_count": 13,
   "metadata": {},
   "outputs": [
    {
     "name": "stdout",
     "output_type": "stream",
     "text": [
      "Enter Number Of Element : 5\n",
      "5\n",
      "4\n",
      "6\n",
      "7\n",
      "8\n",
      "Enter First Position : 2\n",
      "Enter Second Position : 3\n",
      "[5, 4, 7, 6, 8]\n"
     ]
    }
   ],
   "source": [
    "list1 = []\n",
    "input1 = 0\n",
    "n = int(input(\"Enter Number Of Element : \"))\n",
    "for i in range(n):\n",
    "    input1 = int(input())\n",
    "    list1.append(input1)\n",
    "last_element = len(list1)-1\n",
    "n1 = int(input(\"Enter First Position : \"))\n",
    "n2 = int(input(\"Enter Second Position : \"))\n",
    "list1[n1],list1[n2]=list1[n2],list1[n1]\n",
    "print(list1)"
   ]
  },
  {
   "cell_type": "markdown",
   "metadata": {},
   "source": [
    "### 06) WAP to reverses the list entered by user."
   ]
  },
  {
   "cell_type": "code",
   "execution_count": 14,
   "metadata": {},
   "outputs": [
    {
     "name": "stdout",
     "output_type": "stream",
     "text": [
      "Enter Number Of Element : 5\n",
      "1\n",
      "2\n",
      "3\n",
      "4\n",
      "5\n",
      "[5, 4, 3, 2, 1]\n"
     ]
    }
   ],
   "source": [
    "list1 = []\n",
    "input1 = 0\n",
    "n = int(input(\"Enter Number Of Element : \"))\n",
    "for i in range(n):\n",
    "    input1 = int(input())\n",
    "    list1.append(input1)\n",
    "list1.reverse()\n",
    "print(list1)"
   ]
  },
  {
   "cell_type": "markdown",
   "metadata": {},
   "source": [
    "### 07) Python program to remove multiple elements from a list using list comprehension"
   ]
  },
  {
   "cell_type": "code",
   "execution_count": 18,
   "metadata": {},
   "outputs": [
    {
     "name": "stdout",
     "output_type": "stream",
     "text": [
      "Enter Number Of Element : 10\n",
      "78\n",
      "45\n",
      "12\n",
      "45\n",
      "12\n",
      "852\n",
      "46\n",
      "96\n",
      "14\n",
      "85\n",
      "Enter Number Of Element You Want To Delete: 3\n",
      "Enter Element You Want To Delete : 45\n",
      "Enter Element You Want To Delete : 852\n",
      "Enter Element You Want To Delete : 78\n",
      "[12, 45, 12, 46, 96, 14, 85]\n"
     ]
    }
   ],
   "source": [
    "list1 = []\n",
    "input1 = 0\n",
    "n = int(input(\"Enter Number Of Element : \"))\n",
    "for i in range(n):\n",
    "    input1 = int(input())\n",
    "    list1.append(input1)\n",
    "n1 = int(input(\"Enter Number Of Element You Want To Delete: \"))\n",
    "for x in range(n1):\n",
    "    x = int(input(\"Enter Element You Want To Delete : \"))\n",
    "    list1.remove(x)\n",
    "print(list1)"
   ]
  },
  {
   "cell_type": "markdown",
   "metadata": {},
   "source": [
    "### 08) Create a list from the specified start to end index of another list."
   ]
  },
  {
   "cell_type": "code",
   "execution_count": 19,
   "metadata": {},
   "outputs": [
    {
     "name": "stdout",
     "output_type": "stream",
     "text": [
      "Enter Number Of Element : 5\n",
      "6\n",
      "5\n",
      "8\n",
      "9\n",
      "11\n",
      "Enter Start Index : 3\n",
      "Enter End Index : 5\n",
      "[9, 11]\n"
     ]
    }
   ],
   "source": [
    "list1 = []\n",
    "input1 = 0\n",
    "n = int(input(\"Enter Number Of Element : \"))\n",
    "for i in range(n):\n",
    "    input1 = int(input())\n",
    "    list1.append(input1)\n",
    "n1 = int(input(\"Enter Start Index : \"))\n",
    "n2 = int(input(\"Enter End Index : \"))\n",
    "list2=list1[n1:n2]\n",
    "print(list2)"
   ]
  },
  {
   "cell_type": "markdown",
   "metadata": {},
   "source": [
    "### 09) Input comma separated elements, convert into list and print."
   ]
  },
  {
   "cell_type": "code",
   "execution_count": 22,
   "metadata": {},
   "outputs": [
    {
     "name": "stdout",
     "output_type": "stream",
     "text": [
      "Enter Element : 21\n",
      "['21']\n"
     ]
    }
   ],
   "source": [
    "list1 = []\n",
    "n1 = input(\"Enter Element : \")\n",
    "n1.split(\",\")\n",
    "list1.append(n1)\n",
    "print(list1)"
   ]
  },
  {
   "cell_type": "markdown",
   "metadata": {},
   "source": [
    "### 01) WAP to count Even and Odd numbers in a List."
   ]
  },
  {
   "cell_type": "code",
   "execution_count": 37,
   "metadata": {},
   "outputs": [
    {
     "name": "stdout",
     "output_type": "stream",
     "text": [
      "Enter Number Of Element : 5\n",
      "2\n",
      "7\n",
      "9\n",
      "6\n",
      "8\n",
      "[2, 7, 9, 6, 8]\n",
      "Odd Numbers : 2\n",
      "Even Numbers : 3\n"
     ]
    }
   ],
   "source": [
    "list1 = []\n",
    "input1 = 0\n",
    "even_count = 0\n",
    "odd_count = 0\n",
    "n = int(input(\"Enter Number Of Element : \"))\n",
    "for i in range(n):\n",
    "    input1 = int(input())\n",
    "    list1.append(input1)\n",
    "    if list1[i]%2==0:\n",
    "        even_count +=1\n",
    "    elif list1[i]%2!=0:\n",
    "        odd_count +=1\n",
    "print(list1)\n",
    "print(f\"Odd Numbers : {odd_count}\")\n",
    "print(f\"Even Numbers : {even_count}\")\n",
    "    "
   ]
  },
  {
   "cell_type": "markdown",
   "metadata": {},
   "source": [
    "### 02) Python program to find N largest and smallest elements from the list"
   ]
  },
  {
   "cell_type": "code",
   "execution_count": 38,
   "metadata": {},
   "outputs": [
    {
     "name": "stdout",
     "output_type": "stream",
     "text": [
      "Enter Number Of Element : 5\n",
      "78\n",
      "45\n",
      "36\n",
      "91\n",
      "86\n",
      "Enter Number : 2\n",
      "Smallest :  [36, 45]\n",
      "Largest :  [86, 91]\n"
     ]
    }
   ],
   "source": [
    "list1 = []\n",
    "input1 = 0\n",
    "n = int(input(\"Enter Number Of Element : \"))\n",
    "for i in range(n):\n",
    "    input1 = int(input())\n",
    "    list1.append(input1)\n",
    "list1.sort()\n",
    "n = int(input(\"Enter Number : \"))\n",
    "print(\"Smallest : \",list1[0:n])\n",
    "length = len(list1)-n\n",
    "print(\"Largest : \",list1[length:])"
   ]
  },
  {
   "cell_type": "markdown",
   "metadata": {},
   "source": [
    "### 03) WAP to print duplicates from a list of integers"
   ]
  },
  {
   "cell_type": "code",
   "execution_count": 40,
   "metadata": {},
   "outputs": [
    {
     "name": "stdout",
     "output_type": "stream",
     "text": [
      "Enter Number Of Element : 5\n",
      "2\n",
      "5\n",
      "6\n",
      "8\n",
      "8\n",
      "[8]\n"
     ]
    }
   ],
   "source": [
    "list1 = []\n",
    "uniqueList = []\n",
    "duplicateList = []\n",
    "input1 = 0\n",
    "n = int(input(\"Enter Number Of Element : \"))\n",
    "for i in range(n):\n",
    "    input1 = int(input())\n",
    "    list1.append(input1)\n",
    "list1.sort()\n",
    "for i in list1:\n",
    "    if i not in uniqueList:\n",
    "        uniqueList.append(i)\n",
    "    elif i not in duplicateList:\n",
    "        duplicateList.append(i)\n",
    "print(duplicateList)"
   ]
  }
 ],
 "metadata": {
  "kernelspec": {
   "display_name": "Python 3 (ipykernel)",
   "language": "python",
   "name": "python3"
  },
  "language_info": {
   "codemirror_mode": {
    "name": "ipython",
    "version": 3
   },
   "file_extension": ".py",
   "mimetype": "text/x-python",
   "name": "python",
   "nbconvert_exporter": "python",
   "pygments_lexer": "ipython3",
   "version": "3.9.12"
  }
 },
 "nbformat": 4,
 "nbformat_minor": 4
}
